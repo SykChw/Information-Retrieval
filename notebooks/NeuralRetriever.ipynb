{
 "cells": [
  {
   "cell_type": "markdown",
   "id": "a3609099-e75f-4fe1-a45e-6b5b7a8a10af",
   "metadata": {},
   "source": [
    "## Neural Retriever"
   ]
  },
  {
   "cell_type": "markdown",
   "id": "ab773763-557a-41b0-adb7-99a0cb404567",
   "metadata": {},
   "source": [
    "In this notebook, we will develop a Neural Retriever on a small dataset. Let's import the NeuralRetriever class"
   ]
  },
  {
   "cell_type": "code",
   "execution_count": null,
   "id": "769834f6-af0b-4607-ad7a-9e7e99d7e62c",
   "metadata": {},
   "outputs": [],
   "source": [
    "import sys\n",
    "import os\n",
    "\n",
    "sys.path.append(os.path.abspath(\"..\"))\n",
    "from src.NeuralRetriever import NeuralRetriever"
   ]
  },
  {
   "cell_type": "code",
   "execution_count": null,
   "id": "ffa54ec2-1283-42e0-a6ff-ca032f76414a",
   "metadata": {},
   "outputs": [],
   "source": [
    "retriever =  NeuralRetriever(\"intfloat/e5-small-v2\")"
   ]
  },
  {
   "cell_type": "code",
   "execution_count": null,
   "id": "03bb2655-2442-47e8-8157-7be57a9e7414",
   "metadata": {},
   "outputs": [],
   "source": [
    "# Let us load the BNS sections\n",
    "def load_md_files(base_folder):\n",
    "    md_files_dict = []\n",
    "\n",
    "    # Iterate through all folders in the base directory\n",
    "    for folder in os.listdir(base_folder):\n",
    "        folder_path = os.path.join(base_folder, folder)\n",
    "\n",
    "        # Check if it's a directory\n",
    "        if os.path.isdir(folder_path):\n",
    "            # Iterate through all .md files in the folder\n",
    "            for filename in os.listdir(folder_path):\n",
    "                if filename.endswith(\".md\"):\n",
    "                    file_path = os.path.join(folder_path, filename)\n",
    "\n",
    "                    # Open the file and read its contents\n",
    "                    with open(file_path, \"r\", encoding=\"utf-8\") as file:\n",
    "                        file_contents = file.read()\n",
    "\n",
    "                    # Store the contents in the dictionary with the key being \"folder/filename\"\n",
    "                    temp_doc = {}\n",
    "                    temp_doc[\"_id\"] = f\"{folder}/{filename}\"\n",
    "                    temp_doc[\"text\"] = file_contents\n",
    "                    md_files_dict.append(temp_doc)\n",
    "\n",
    "    return md_files_dict"
   ]
  },
  {
   "cell_type": "code",
   "execution_count": null,
   "id": "7f4c8a6e-1db1-4a45-b138-20e362c12f8f",
   "metadata": {},
   "outputs": [],
   "source": [
    "bns_data = load_md_files(\"ilab_sdg/\")"
   ]
  },
  {
   "cell_type": "code",
   "execution_count": null,
   "id": "b840073c-c45f-4d8e-b3ab-969c5a58381f",
   "metadata": {},
   "outputs": [],
   "source": [
    "# Add some documents\n",
    "for each_section in bns_data:\n",
    "    retriever.add_document(each_section[\"_id\"], each_section[\"text\"])\n",
    "\n",
    "retriever.build_index()"
   ]
  },
  {
   "cell_type": "code",
   "execution_count": null,
   "id": "3a8b471d-5cbe-4210-929b-21d6b6b42996",
   "metadata": {},
   "outputs": [],
   "source": [
    "query = \"I had parked my car in the basement. Someone came and have hit my car. What section in BNS will help me?\"\n",
    "results = retriever.search(query, top_k=4)\n",
    "print(results)\n",
    "\n",
    "# Get the matching documents\n",
    "print(\"\\nTop matching documents:\")\n",
    "for doc_id, score in results:\n",
    "    print(f\"Document {doc_id} (Score: {score:.4f}): {retriever.documents[doc_id]}\")"
   ]
  },
  {
   "cell_type": "code",
   "execution_count": null,
   "id": "dd1be4e4-3d9e-41b9-9523-5c0e5e45210d",
   "metadata": {},
   "outputs": [],
   "source": []
  }
 ],
 "metadata": {
  "kernelspec": {
   "display_name": "Python 3 (ipykernel)",
   "language": "python",
   "name": "python3"
  },
  "language_info": {
   "codemirror_mode": {
    "name": "ipython",
    "version": 3
   },
   "file_extension": ".py",
   "mimetype": "text/x-python",
   "name": "python",
   "nbconvert_exporter": "python",
   "pygments_lexer": "ipython3",
   "version": "3.10.13"
  }
 },
 "nbformat": 4,
 "nbformat_minor": 5
}
