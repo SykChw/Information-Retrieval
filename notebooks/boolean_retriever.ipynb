{
 "cells": [
  {
   "cell_type": "markdown",
   "metadata": {},
   "source": [
    "## Boolean Retriever"
   ]
  },
  {
   "cell_type": "markdown",
   "metadata": {},
   "source": [
    "In this notebook, we will develop a Boolean Retriever on a small dataset. Let's import the BooleanRetriever class"
   ]
  },
  {
   "cell_type": "code",
   "execution_count": 1,
   "metadata": {},
   "outputs": [
    {
     "name": "stderr",
     "output_type": "stream",
     "text": [
      "/Users/rudramurthy/miniforge3/envs/py310/lib/python3.10/site-packages/tqdm/auto.py:21: TqdmWarning: IProgress not found. Please update jupyter and ipywidgets. See https://ipywidgets.readthedocs.io/en/stable/user_install.html\n",
      "  from .autonotebook import tqdm as notebook_tqdm\n"
     ]
    }
   ],
   "source": [
    "import sys\n",
    "import os\n",
    "\n",
    "sys.path.append(os.path.abspath(\"..\"))\n",
    "from src.BooleanRetriever import BooleanRetrieval"
   ]
  },
  {
   "cell_type": "code",
   "execution_count": 2,
   "metadata": {},
   "outputs": [],
   "source": [
    "# we will load the retriever and the dataset\n",
    "bool_retriever = BooleanRetrieval()"
   ]
  },
  {
   "cell_type": "code",
   "execution_count": 3,
   "metadata": {},
   "outputs": [],
   "source": [
    "# Add some documents\n",
    "bool_retriever.add_document(1, \"Python is a popular programming language.\")\n",
    "bool_retriever.add_document(2, \"Java is also a popular programming language.\")\n",
    "bool_retriever.add_document(3, \"Python and Java are both object-oriented.\")\n",
    "bool_retriever.add_document(4, \"Python is known for its simplicity and readability.\")\n",
    "bool_retriever.add_document(5, \"Data science often uses Python for analysis.\")"
   ]
  },
  {
   "cell_type": "code",
   "execution_count": 4,
   "metadata": {},
   "outputs": [
    {
     "name": "stderr",
     "output_type": "stream",
     "text": [
      "Building Index:   0%|          | 0/5 [00:00<?, ?it/s]"
     ]
    },
    {
     "name": "stderr",
     "output_type": "stream",
     "text": [
      "Building Index: 100%|██████████| 5/5 [00:00<00:00, 11902.11it/s]"
     ]
    },
    {
     "name": "stdout",
     "output_type": "stream",
     "text": [
      "Index built.\n"
     ]
    },
    {
     "name": "stderr",
     "output_type": "stream",
     "text": [
      "\n"
     ]
    }
   ],
   "source": [
    "# we will now build the index\n",
    "bool_retriever.build_index()"
   ]
  },
  {
   "cell_type": "code",
   "execution_count": 5,
   "metadata": {},
   "outputs": [
    {
     "name": "stdout",
     "output_type": "stream",
     "text": [
      "Key is 1\n",
      "Python is a popular programming language.\n"
     ]
    }
   ],
   "source": [
    "first_key = \"\"\n",
    "for key in bool_retriever.documents:\n",
    "    first_key = key\n",
    "    break\n",
    "\n",
    "print(f\"Key is {first_key}\")\n",
    "print(bool_retriever.documents[first_key])"
   ]
  },
  {
   "cell_type": "code",
   "execution_count": 8,
   "metadata": {},
   "outputs": [
    {
     "name": "stdout",
     "output_type": "stream",
     "text": [
      "Python is a popular programming language.\n",
      "Python and Java are both object-oriented.\n",
      "Python is known for its simplicity and readability.\n",
      "Data science often uses Python for analysis.\n"
     ]
    }
   ],
   "source": [
    "# Let's see how Inverted Index looks like\n",
    "for each_doc in bool_retriever.inverted_index[\"python\"]:\n",
    "    print(bool_retriever.documents[each_doc])"
   ]
  },
  {
   "cell_type": "code",
   "execution_count": 10,
   "metadata": {},
   "outputs": [
    {
     "name": "stdout",
     "output_type": "stream",
     "text": [
      "DocID: 3\n",
      "Content: Python and Java are both object-oriented.\n",
      "\n"
     ]
    }
   ],
   "source": [
    "query = \"python AND java\"\n",
    "results = bool_retriever.search(query)\n",
    "for doc_id, content in results.items():\n",
    "    print(f\"DocID: {doc_id}\\nContent: {content}\\n\")"
   ]
  },
  {
   "cell_type": "code",
   "execution_count": null,
   "metadata": {},
   "outputs": [],
   "source": []
  }
 ],
 "metadata": {
  "kernelspec": {
   "display_name": "py310",
   "language": "python",
   "name": "python3"
  },
  "language_info": {
   "codemirror_mode": {
    "name": "ipython",
    "version": 3
   },
   "file_extension": ".py",
   "mimetype": "text/x-python",
   "name": "python",
   "nbconvert_exporter": "python",
   "pygments_lexer": "ipython3",
   "version": "3.10.13"
  }
 },
 "nbformat": 4,
 "nbformat_minor": 2
}
