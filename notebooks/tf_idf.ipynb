{
 "cells": [
  {
   "cell_type": "markdown",
   "metadata": {},
   "source": [
    "## Boolean Retriever"
   ]
  },
  {
   "cell_type": "markdown",
   "metadata": {},
   "source": [
    "In this notebook, we will develop a Boolean Retriever on a small dataset. Let's import the BooleanRetriever class"
   ]
  },
  {
   "cell_type": "code",
   "execution_count": null,
   "metadata": {},
   "outputs": [
    {
     "name": "stderr",
     "output_type": "stream",
     "text": [
      "/Users/rudramurthy/miniforge3/envs/py310/lib/python3.10/site-packages/tqdm/auto.py:21: TqdmWarning: IProgress not found. Please update jupyter and ipywidgets. See https://ipywidgets.readthedocs.io/en/stable/user_install.html\n",
      "  from .autonotebook import tqdm as notebook_tqdm\n"
     ]
    }
   ],
   "source": [
    "import sys\n",
    "import os\n",
    "\n",
    "sys.path.append(os.path.abspath(\"..\"))\n",
    "from src.TF_IDFRetriever import TFIDFRetriever"
   ]
  },
  {
   "cell_type": "code",
   "execution_count": null,
   "metadata": {},
   "outputs": [],
   "source": [
    "# Create TF-IDF retriever\n",
    "retriever = TFIDFRetriever()"
   ]
  },
  {
   "cell_type": "code",
   "execution_count": null,
   "metadata": {},
   "outputs": [],
   "source": [
    "# Add some documents\n",
    "retriever.add_document(\n",
    "    1, \"Python is a popular programming language for data science.\"\n",
    ")\n",
    "retriever.add_document(2, \"Java is widely used for enterprise applications.\")\n",
    "retriever.add_document(\n",
    "    3, \"Python and Java are both object-oriented programming languages.\"\n",
    ")\n",
    "retriever.add_document(\n",
    "    4, \"Data science involves analyzing and interpreting complex data.\"\n",
    ")\n",
    "retriever.add_document(\n",
    "    5, \"Machine learning is a subset of artificial intelligence.\"\n",
    ")"
   ]
  },
  {
   "cell_type": "code",
   "execution_count": null,
   "metadata": {},
   "outputs": [
    {
     "name": "stderr",
     "output_type": "stream",
     "text": [
      "Building Index:   0%|          | 0/5 [00:00<?, ?it/s]"
     ]
    },
    {
     "name": "stderr",
     "output_type": "stream",
     "text": [
      "Building Index: 100%|██████████| 5/5 [00:00<00:00, 11902.11it/s]"
     ]
    },
    {
     "name": "stdout",
     "output_type": "stream",
     "text": [
      "Index built.\n"
     ]
    },
    {
     "name": "stderr",
     "output_type": "stream",
     "text": [
      "\n"
     ]
    }
   ],
   "source": [
    "# Search for a query\n",
    "print(\"Search for 'python programming':\")\n",
    "results = retriever.search(\"python programming\")\n",
    "print(results)\n",
    "\n",
    "# Get the matching documents\n",
    "print(\"\\nTop matching documents:\")\n",
    "for doc_id, score in results:\n",
    "    print(f\"Document {doc_id} (Score: {score:.4f}): {retriever.documents[doc_id]}\")"
   ]
  },
  {
   "cell_type": "code",
   "execution_count": null,
   "metadata": {},
   "outputs": [
    {
     "name": "stdout",
     "output_type": "stream",
     "text": [
      "Key is 1\n",
      "Python is a popular programming language.\n"
     ]
    }
   ],
   "source": [
    "# Add another document\n",
    "print(\"\\nAdding a new document...\")\n",
    "retriever.add_document(\n",
    "    6, \"Python is excellent for machine learning and data analysis tasks.\"\n",
    ")\n",
    "\n",
    "# Search again\n",
    "print(\"\\nSearch for 'python machine learning' after adding new document:\")\n",
    "results = retriever.search(\"python machine learning\")\n",
    "print(results)\n",
    "\n",
    "# Get the matching documents\n",
    "print(\"\\nTop matching documents:\")\n",
    "for doc_id, score in results:\n",
    "    print(f\"Document {doc_id} (Score: {score:.4f}): {retriever.documents[doc_id]}\")\n",
    "\n",
    "# Get term statistics\n",
    "print(\"\\nTerm statistics for 'python':\")\n",
    "print(retriever.get_term_stats(\"python\"))\n"
   ]
  }
 ],
 "metadata": {
  "kernelspec": {
   "display_name": "py310",
   "language": "python",
   "name": "python3"
  },
  "language_info": {
   "codemirror_mode": {
    "name": "ipython",
    "version": 3
   },
   "file_extension": ".py",
   "mimetype": "text/x-python",
   "name": "python",
   "nbconvert_exporter": "python",
   "pygments_lexer": "ipython3",
   "version": "3.10.13"
  }
 },
 "nbformat": 4,
 "nbformat_minor": 2
}
